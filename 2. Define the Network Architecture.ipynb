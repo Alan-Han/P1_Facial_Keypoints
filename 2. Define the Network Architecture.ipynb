{
 "cells": [
  {
   "cell_type": "markdown",
   "metadata": {},
   "source": [
    "## Define the Convolutional Neural Network\n",
    "\n",
    "After you've looked at the data you're working with and, in this case, know the shapes of the images and of the keypoints, you are ready to define a convolutional neural network that can *learn* from this data.\n",
    "\n",
    "In this notebook and in `models.py`, you will:\n",
    "1. Define a CNN with images as input and keypoints as output\n",
    "2. Construct the transformed FaceKeypointsDataset, just as before\n",
    "3. Train the CNN on the training data, tracking loss\n",
    "4. See how the trained model performs on test data\n",
    "5. If necessary, modify the CNN structure and model hyperparameters, so that it performs *well* **\\***\n",
    "\n",
    "**\\*** What does *well* mean?\n",
    "\n",
    "\"Well\" means that the model's loss decreases during training **and**, when applied to test image data, the model produces keypoints that closely match the true keypoints of each face. And you'll see examples of this later in the notebook.\n",
    "\n",
    "---\n"
   ]
  },
  {
   "cell_type": "markdown",
   "metadata": {},
   "source": [
    "## CNN Architecture\n",
    "\n",
    "Recall that CNN's are defined by a few types of layers:\n",
    "* Convolutional layers\n",
    "* Maxpooling layers\n",
    "* Fully-connected layers\n",
    "\n",
    "You are required to use the above layers and encouraged to add multiple convolutional layers and things like dropout layers that may prevent overfitting. You are also encouraged to look at literature on keypoint detection, such as [this paper](https://arxiv.org/pdf/1710.00977.pdf), to help you determine the structure of your network.\n",
    "\n",
    "\n",
    "### TODO: Define your model in the provided file `models.py` file\n",
    "\n",
    "This file is mostly empty but contains the expected name and some TODO's for creating your model.\n",
    "\n",
    "---"
   ]
  },
  {
   "cell_type": "markdown",
   "metadata": {},
   "source": [
    "## PyTorch Neural Nets\n",
    "\n",
    "To define a neural network in PyTorch, you define the layers of a model in the function `__init__` and define the feedforward behavior of a network that employs those initialized layers in the function `forward`, which takes in an input image tensor, `x`. The structure of this Net class is shown below and left for you to fill in.\n",
    "\n",
    "Note: During training, PyTorch will be able to perform backpropagation by keeping track of the network's feedforward behavior and using autograd to calculate the update to the weights in the network.\n",
    "\n",
    "#### Define the Layers in ` __init__`\n",
    "As a reminder, a conv/pool layer may be defined like this (in `__init__`):\n",
    "```\n",
    "# 1 input image channel (for grayscale images), 32 output channels/feature maps, 3x3 square convolution kernel\n",
    "self.conv1 = nn.Conv2d(1, 32, 3)\n",
    "\n",
    "# maxpool that uses a square window of kernel_size=2, stride=2\n",
    "self.pool = nn.MaxPool2d(2, 2)      \n",
    "```\n",
    "\n",
    "#### Refer to Layers in `forward`\n",
    "Then referred to in the `forward` function like this, in which the conv1 layer has a ReLu activation applied to it before maxpooling is applied:\n",
    "```\n",
    "x = self.pool(F.relu(self.conv1(x)))\n",
    "```\n",
    "\n",
    "Best practice is to place any layers whose weights will change during the training process in `__init__` and refer to them in the `forward` function; any layers or functions that always behave in the same way, such as a pre-defined activation function, should appear *only* in the `forward` function."
   ]
  },
  {
   "cell_type": "markdown",
   "metadata": {},
   "source": [
    "#### Why models.py\n",
    "\n",
    "You are tasked with defining the network in the `models.py` file so that any models you define can be saved and loaded by name in different notebooks in this project directory. For example, by defining a CNN class called `Net` in `models.py`, you can then create that same architecture in this and other notebooks by simply importing the class and instantiating a model:\n",
    "```\n",
    "    from models import Net\n",
    "    net = Net()\n",
    "```"
   ]
  },
  {
   "cell_type": "code",
   "execution_count": 1,
   "metadata": {
    "collapsed": true
   },
   "outputs": [],
   "source": [
    "# import the usual resources\n",
    "import matplotlib.pyplot as plt\n",
    "import numpy as np\n",
    "\n",
    "# watch for any changes in model.py, if it changes, re-load it automatically\n",
    "%load_ext autoreload\n",
    "%autoreload 2"
   ]
  },
  {
   "cell_type": "code",
   "execution_count": 2,
   "metadata": {},
   "outputs": [
    {
     "name": "stdout",
     "output_type": "stream",
     "text": [
      "Net(\n",
      "  (conv1): Conv2d(1, 32, kernel_size=(5, 5), stride=(1, 1))\n",
      "  (pool): MaxPool2d(kernel_size=2, stride=2, padding=0, dilation=1, ceil_mode=False)\n",
      "  (conv1_drop): Dropout2d(p=0.5)\n",
      "  (conv2): Conv2d(32, 64, kernel_size=(5, 5), stride=(1, 1))\n",
      "  (fc1): Linear(in_features=179776, out_features=200, bias=True)\n",
      "  (fc1_drop): Dropout(p=0.5)\n",
      "  (fc2): Linear(in_features=200, out_features=136, bias=True)\n",
      ")\n"
     ]
    }
   ],
   "source": [
    "## TODO: Define the Net in models.py\n",
    "\n",
    "import torch\n",
    "import torch.nn as nn\n",
    "import torch.nn.functional as F\n",
    "\n",
    "## TODO: Once you've define the network, you can instantiate it\n",
    "# one example conv layer has been provided for you\n",
    "from models import Net\n",
    "\n",
    "net = Net()\n",
    "print(net)"
   ]
  },
  {
   "cell_type": "markdown",
   "metadata": {
    "collapsed": true
   },
   "source": [
    "## Transform the dataset \n",
    "\n",
    "To prepare for training, create a transformed dataset of images and keypoints.\n",
    "\n",
    "### TODO: Define a data transform\n",
    "\n",
    "In PyTorch, a convolutional neural network expects a torch image of a consistent size as input. For efficient training, and so your model's loss does not blow up during training, it is also suggested that you normalize the input images and keypoints. The necessary transforms have been defined in `data_load.py` and you **do not** need to modify these; take a look at this file (you'll see the same transforms that were defined and applied in Notebook 1).\n",
    "\n",
    "To define the data transform below, use a [composition](http://pytorch.org/tutorials/beginner/data_loading_tutorial.html#compose-transforms) of:\n",
    "1. Rescaling and/or cropping the data, such that you are left with a square image (the suggested size is 224x224px)\n",
    "2. Normalizing the images and keypoints; turning each RGB image into a grayscale image with a color range of [0, 1] and transforming the given keypoints into a range of [-1, 1]\n",
    "3. Turning these images and keypoints into Tensors\n",
    "\n",
    "These transformations have been defined in `data_load.py`, but it's up to you to call them and create a `data_transform` below. **This transform will be applied to the training data and, later, the test data**. It will change how you go about displaying these images and keypoints, but these steps are essential for efficient training.\n",
    "\n",
    "As a note, should you want to perform data augmentation (which is optional in this project), and randomly rotate or shift these images, a square image size will be useful; rotating a 224x224 image by 90 degrees will result in the same shape of output."
   ]
  },
  {
   "cell_type": "code",
   "execution_count": 3,
   "metadata": {
    "collapsed": true
   },
   "outputs": [],
   "source": [
    "from torch.utils.data import Dataset, DataLoader\n",
    "from torchvision import transforms, utils\n",
    "\n",
    "# the dataset we created in Notebook 1 is copied in the helper file `data_load.py`\n",
    "from data_load import FacialKeypointsDataset\n",
    "# the transforms we defined in Notebook 1 are in the helper file `data_load.py`\n",
    "from data_load import Rescale, RandomCrop, Normalize, ToTensor\n",
    "\n",
    "\n",
    "## TODO: define the data_transform using transforms.Compose([all tx's, . , .])\n",
    "# order matters! i.e. rescaling should come before a smaller crop\n",
    "data_transform = transforms.Compose([Rescale(250),\n",
    "                                     RandomCrop(224),\n",
    "                                     Normalize(),\n",
    "                                     ToTensor()])\n",
    "\n",
    "# testing that you've defined a transform\n",
    "assert(data_transform is not None), 'Define a data_transform'"
   ]
  },
  {
   "cell_type": "code",
   "execution_count": 4,
   "metadata": {},
   "outputs": [
    {
     "name": "stdout",
     "output_type": "stream",
     "text": [
      "Number of images:  3462\n",
      "0 torch.Size([1, 224, 224]) torch.Size([68, 2])\n",
      "1 torch.Size([1, 224, 224]) torch.Size([68, 2])\n",
      "2 torch.Size([1, 224, 224]) torch.Size([68, 2])\n",
      "3 torch.Size([1, 224, 224]) torch.Size([68, 2])\n"
     ]
    }
   ],
   "source": [
    "# create the transformed dataset\n",
    "transformed_dataset = FacialKeypointsDataset(csv_file='data/training_frames_keypoints.csv',\n",
    "                                             root_dir='data/training/',\n",
    "                                             transform=data_transform)\n",
    "\n",
    "\n",
    "print('Number of images: ', len(transformed_dataset))\n",
    "\n",
    "# iterate through the transformed dataset and print some stats about the first few samples\n",
    "for i in range(4):\n",
    "    sample = transformed_dataset[i]\n",
    "    print(i, sample['image'].size(), sample['keypoints'].size())"
   ]
  },
  {
   "cell_type": "markdown",
   "metadata": {},
   "source": [
    "## Batching and loading data\n",
    "\n",
    "Next, having defined the transformed dataset, we can use PyTorch's DataLoader class to load the training data in batches of whatever size as well as to shuffle the data for training the model. You can read more about the parameters of the DataLoader, in [this documentation](http://pytorch.org/docs/master/data.html).\n",
    "\n",
    "#### Batch size\n",
    "Decide on a good batch size for training your model. Try both small and large batch sizes and note how the loss decreases as the model trains.\n",
    "\n",
    "**Note for Windows users**: Please change the `num_workers` to 0 or you may face some issues with your DataLoader failing."
   ]
  },
  {
   "cell_type": "code",
   "execution_count": 6,
   "metadata": {
    "collapsed": true
   },
   "outputs": [],
   "source": [
    "# load training data in batches\n",
    "batch_size = 25\n",
    "\n",
    "train_loader = DataLoader(transformed_dataset, \n",
    "                          batch_size=batch_size,\n",
    "                          shuffle=True, \n",
    "                          num_workers=0)\n"
   ]
  },
  {
   "cell_type": "markdown",
   "metadata": {},
   "source": [
    "## Before training\n",
    "\n",
    "Take a look at how this model performs before it trains. You should see that the keypoints it predicts start off in one spot and don't match the keypoints on a face at all! It's interesting to visualize this behavior so that you can compare it to the model after training and see how the model has improved.\n",
    "\n",
    "#### Load in the test dataset\n",
    "\n",
    "The test dataset is one that this model has *not* seen before, meaning it has not trained with these images. We'll load in this test data and before and after training, see how your model performs on this set!\n",
    "\n",
    "To visualize this test data, we have to go through some un-transformation steps to turn our images into python images from tensors and to turn our keypoints back into a recognizable range. "
   ]
  },
  {
   "cell_type": "code",
   "execution_count": 7,
   "metadata": {
    "collapsed": true
   },
   "outputs": [],
   "source": [
    "# load in the test data, using the dataset class\n",
    "# AND apply the data_transform you defined above\n",
    "\n",
    "# create the test dataset\n",
    "test_dataset = FacialKeypointsDataset(csv_file='data/test_frames_keypoints.csv',\n",
    "                                             root_dir='data/test/',\n",
    "                                             transform=data_transform)\n",
    "\n"
   ]
  },
  {
   "cell_type": "code",
   "execution_count": 8,
   "metadata": {
    "collapsed": true
   },
   "outputs": [],
   "source": [
    "# load test data in batches\n",
    "batch_size = 25\n",
    "\n",
    "test_loader = DataLoader(test_dataset, \n",
    "                          batch_size=batch_size,\n",
    "                          shuffle=True, \n",
    "                          num_workers=0)"
   ]
  },
  {
   "cell_type": "markdown",
   "metadata": {},
   "source": [
    "## Apply the model on a test sample\n",
    "\n",
    "To test the model on a test sample of data, you have to follow these steps:\n",
    "1. Extract the image and ground truth keypoints from a sample\n",
    "2. Make sure the image is a FloatTensor, which the model expects.\n",
    "3. Forward pass the image through the net to get the predicted, output keypoints.\n",
    "\n",
    "This function test how the network performs on the first batch of test data. It returns the images, the transformed images, the predicted keypoints (produced by the model), and the ground truth keypoints."
   ]
  },
  {
   "cell_type": "code",
   "execution_count": 9,
   "metadata": {
    "collapsed": true
   },
   "outputs": [],
   "source": [
    "# test the model on a batch of test images\n",
    "\n",
    "def net_sample_output():\n",
    "    \n",
    "    # iterate through the test dataset\n",
    "    for i, sample in enumerate(test_loader):\n",
    "        \n",
    "        # get sample data: images and ground truth keypoints\n",
    "        images = sample['image']\n",
    "        key_pts = sample['keypoints']\n",
    "\n",
    "        # convert images to FloatTensors\n",
    "        images = images.type(torch.FloatTensor)\n",
    "\n",
    "        # forward pass to get net output\n",
    "        output_pts = net(images)\n",
    "        \n",
    "        # reshape to batch_size x 68 x 2 pts\n",
    "        output_pts = output_pts.view(output_pts.size()[0], 68, -1)\n",
    "        \n",
    "        # break after first image is tested\n",
    "        if i == 0:\n",
    "            return images, output_pts, key_pts\n",
    "            "
   ]
  },
  {
   "cell_type": "markdown",
   "metadata": {},
   "source": [
    "#### Debugging tips\n",
    "\n",
    "If you get a size or dimension error here, make sure that your network outputs the expected number of keypoints! Or if you get a Tensor type error, look into changing the above code that casts the data into float types: `images = images.type(torch.FloatTensor)`."
   ]
  },
  {
   "cell_type": "code",
   "execution_count": 10,
   "metadata": {},
   "outputs": [
    {
     "name": "stdout",
     "output_type": "stream",
     "text": [
      "torch.Size([25, 1, 224, 224])\n",
      "torch.Size([25, 68, 2])\n",
      "torch.Size([25, 68, 2])\n"
     ]
    }
   ],
   "source": [
    "# call the above function\n",
    "# returns: test images, test predicted keypoints, test ground truth keypoints\n",
    "test_images, test_outputs, gt_pts = net_sample_output()\n",
    "\n",
    "# print out the dimensions of the data to see if they make sense\n",
    "print(test_images.data.size())\n",
    "print(test_outputs.data.size())\n",
    "print(gt_pts.size())"
   ]
  },
  {
   "cell_type": "markdown",
   "metadata": {},
   "source": [
    "## Visualize the predicted keypoints\n",
    "\n",
    "Once we've had the model produce some predicted output keypoints, we can visualize these points in a way that's similar to how we've displayed this data before, only this time, we have to \"un-transform\" the image/keypoint data to display it.\n",
    "\n",
    "Note that I've defined a *new* function, `show_all_keypoints` that displays a grayscale image, its predicted keypoints and its ground truth keypoints (if provided)."
   ]
  },
  {
   "cell_type": "code",
   "execution_count": 11,
   "metadata": {
    "collapsed": true
   },
   "outputs": [],
   "source": [
    "def show_all_keypoints(image, predicted_key_pts, gt_pts=None):\n",
    "    \"\"\"Show image with predicted keypoints\"\"\"\n",
    "    # image is grayscale\n",
    "    plt.imshow(image, cmap='gray')\n",
    "    plt.scatter(predicted_key_pts[:, 0], predicted_key_pts[:, 1], s=20, marker='.', c='m')\n",
    "    # plot ground truth points as green pts\n",
    "    if gt_pts is not None:\n",
    "        plt.scatter(gt_pts[:, 0], gt_pts[:, 1], s=20, marker='.', c='g')\n"
   ]
  },
  {
   "cell_type": "markdown",
   "metadata": {},
   "source": [
    "#### Un-transformation\n",
    "\n",
    "Next, you'll see a helper function. `visualize_output` that takes in a batch of images, predicted keypoints, and ground truth keypoints and displays a set of those images and their true/predicted keypoints.\n",
    "\n",
    "This function's main role is to take batches of image and keypoint data (the input and output of your CNN), and transform them into numpy images and un-normalized keypoints (x, y) for normal display. The un-transformation process turns keypoints and images into numpy arrays from Tensors *and* it undoes the keypoint normalization done in the Normalize() transform; it's assumed that you applied these transformations when you loaded your test data."
   ]
  },
  {
   "cell_type": "code",
   "execution_count": 12,
   "metadata": {},
   "outputs": [
    {
     "data": {
      "image/png": "[encoded data removed]",
      "text/plain": [
       "<matplotlib.figure.Figure at 0x10be29438>"
      ]
     },
     "metadata": {},
     "output_type": "display_data"
    },
    {
     "data": {
      "image/png": "[encoded data removed]",
      "text/plain": [
       "<matplotlib.figure.Figure at 0x125ecc160>"
      ]
     },
     "metadata": {},
     "output_type": "display_data"
    },
    {
     "data": {
      "image/png": "[encoded data removed]",
      "text/plain": [
       "<matplotlib.figure.Figure at 0x125f3b278>"
      ]
     },
     "metadata": {},
     "output_type": "display_data"
    },
    {
     "data": {
      "image/png": "[encoded data removed]",
      "text/plain": [
       "<matplotlib.figure.Figure at 0x125f9d860>"
      ]
     },
     "metadata": {},
     "output_type": "display_data"
    },
    {
     "data": {
      "image/png": "[encoded data removed]",
      "text/plain": [
       "<matplotlib.figure.Figure at 0x125ffc6d8>"
      ]
     },
     "metadata": {},
     "output_type": "display_data"
    },
    {
     "data": {
      "image/png": "[encoded data removed]",
      "text/plain": [
       "<matplotlib.figure.Figure at 0x126bf4470>"
      ]
     },
     "metadata": {},
     "output_type": "display_data"
    },
    {
     "data": {
      "image/png": "[encoded data removed]",
      "text/plain": [
       "<matplotlib.figure.Figure at 0x12889e470>"
      ]
     },
     "metadata": {},
     "output_type": "display_data"
    },
    {
     "data": {
      "image/png": "[encoded data removed]",
      "text/plain": [
       "<matplotlib.figure.Figure at 0x1289d9b00>"
      ]
     },
     "metadata": {},
     "output_type": "display_data"
    },
    {
     "data": {
      "image/png": "[encoded data removed]",
      "text/plain": [
       "<matplotlib.figure.Figure at 0x128aafe80>"
      ]
     },
     "metadata": {},
     "output_type": "display_data"
    },
    {
     "data": {
      "image/png": "[encoded data removed]",
      "text/plain": [
       "<matplotlib.figure.Figure at 0x1288f4f60>"
      ]
     },
     "metadata": {},
     "output_type": "display_data"
    }
   ],
   "source": [
    "# visualize the output\n",
    "# by default this shows a batch of 10 images\n",
    "def visualize_output(test_images, test_outputs, gt_pts=None, batch_size=10):\n",
    "\n",
    "    for i in range(batch_size):\n",
    "        plt.figure(figsize=(20,10))\n",
    "        ax = plt.subplot(1, batch_size, i+1)\n",
    "\n",
    "        # un-transform the image data\n",
    "        image = test_images[i].data   # get the image from it's wrapper\n",
    "        image = image.numpy()   # convert to numpy array from a Tensor\n",
    "        image = np.transpose(image, (1, 2, 0))   # transpose to go from torch to numpy image\n",
    "\n",
    "        # un-transform the predicted key_pts data\n",
    "        predicted_key_pts = test_outputs[i].data\n",
    "        predicted_key_pts = predicted_key_pts.numpy()\n",
    "        # undo normalization of keypoints  \n",
    "        predicted_key_pts = predicted_key_pts*50.0+100\n",
    "        \n",
    "        # plot ground truth points for comparison, if they exist\n",
    "        ground_truth_pts = None\n",
    "        if gt_pts is not None:\n",
    "            ground_truth_pts = gt_pts[i]         \n",
    "            ground_truth_pts = ground_truth_pts*50.0+100\n",
    "        \n",
    "        # call show_all_keypoints\n",
    "        show_all_keypoints(np.squeeze(image), predicted_key_pts, ground_truth_pts)\n",
    "            \n",
    "        plt.axis('off')\n",
    "\n",
    "    plt.show()\n",
    "    \n",
    "# call it\n",
    "visualize_output(test_images, test_outputs, gt_pts)"
   ]
  },
  {
   "cell_type": "markdown",
   "metadata": {},
   "source": [
    "## Training\n",
    "\n",
    "#### Loss function\n",
    "Training a network to predict keypoints is different than training a network to predict a class; instead of outputting a distribution of classes and using cross entropy loss, you may want to choose a loss function that is suited for regression, which directly compares a predicted value and target value. Read about the various kinds of loss functions (like MSE or L1/SmoothL1 loss) in [this documentation](http://pytorch.org/docs/master/_modules/torch/nn/modules/loss.html).\n",
    "\n",
    "### TODO: Define the loss and optimization\n",
    "\n",
    "Next, you'll define how the model will train by deciding on the loss function and optimizer.\n",
    "\n",
    "---"
   ]
  },
  {
   "cell_type": "code",
   "execution_count": 13,
   "metadata": {},
   "outputs": [],
   "source": [
    "## TODO: Define the loss and optimization\n",
    "import torch.optim as optim\n",
    "\n",
    "# criterion = nn.MSELoss()\n",
    "# criterion = nn.SmoothL1Loss()\n",
    "criterion =  nn.SmoothL1Loss(size_average=False)\n",
    "\n",
    "# optimizer = optim.SGD(net.parameters(), lr = 0.001, momentum = 0.9)\n",
    "# optimizer = optim.Adam(net.parameters(), lr = 0.01)\n",
    "optimizer = optim.RMSprop(net.parameters(), lr=0.005)"
   ]
  },
  {
   "cell_type": "markdown",
   "metadata": {},
   "source": [
    "## Training and Initial Observation\n",
    "\n",
    "Now, you'll train on your batched training data from `train_loader` for a number of epochs. \n",
    "\n",
    "To quickly observe how your model is training and decide on whether or not you should modify it's structure or hyperparameters, you're encouraged to start off with just one or two epochs at first. As you train, note how your the model's loss behaves over time: does it decrease quickly at first and then slow down? Does it take a while to decrease in the first place? What happens if you change the batch size of your training data or modify your loss function? etc. \n",
    "\n",
    "Use these initial observations to make changes to your model and decide on the best architecture before you train for many epochs and create a final model."
   ]
  },
  {
   "cell_type": "code",
   "execution_count": 14,
   "metadata": {
    "collapsed": true
   },
   "outputs": [],
   "source": [
    "def train_net(n_epochs):\n",
    "\n",
    "    # prepare the net for training\n",
    "    net.train()\n",
    "\n",
    "    for epoch in range(n_epochs):  # loop over the dataset multiple times\n",
    "        \n",
    "        running_loss = 0.0\n",
    "\n",
    "        # train on batches of data, assumes you already have train_loader\n",
    "        for batch_i, data in enumerate(train_loader):\n",
    "            # get the input images and their corresponding labels\n",
    "            images = data['image']\n",
    "            key_pts = data['keypoints']\n",
    "\n",
    "            # flatten pts\n",
    "            key_pts = key_pts.view(key_pts.size(0), -1)\n",
    "\n",
    "            # convert variables to floats for regression loss\n",
    "            key_pts = key_pts.type(torch.FloatTensor)\n",
    "            images = images.type(torch.FloatTensor)\n",
    "\n",
    "            # forward pass to get outputs\n",
    "            output_pts = net(images)\n",
    "\n",
    "            # calculate the loss between predicted and target keypoints\n",
    "            loss = criterion(output_pts, key_pts)\n",
    "\n",
    "            # zero the parameter (weight) gradients\n",
    "            optimizer.zero_grad()\n",
    "            \n",
    "            # backward pass to calculate the weight gradients\n",
    "            loss.backward()\n",
    "\n",
    "            # update the weights\n",
    "            optimizer.step()\n",
    "\n",
    "            # print loss statistics\n",
    "            # to convert loss into a scalar and add it to the running_loss, use .item()\n",
    "            running_loss += loss.item()\n",
    "            if batch_i % 10 == 9:    # print every 10 batches\n",
    "                print('Epoch: {}, Batch: {}, Avg. Loss: {}'.format(epoch + 1, batch_i+1, running_loss/1000))\n",
    "                running_loss = 0.0\n",
    "\n",
    "    print('Finished Training')\n"
   ]
  },
  {
   "cell_type": "code",
   "execution_count": 15,
   "metadata": {},
   "outputs": [
    {
     "name": "stdout",
     "output_type": "stream",
     "text": [
      "Epoch: 1, Batch: 10, Avg. Loss: 12986.1510859375\n",
      "Epoch: 1, Batch: 20, Avg. Loss: 161.8062529296875\n",
      "Epoch: 1, Batch: 30, Avg. Loss: 160.9691025390625\n",
      "Epoch: 1, Batch: 40, Avg. Loss: 160.873587890625\n",
      "Epoch: 1, Batch: 50, Avg. Loss: 161.7560380859375\n",
      "Epoch: 1, Batch: 60, Avg. Loss: 162.164140625\n",
      "Epoch: 1, Batch: 70, Avg. Loss: 161.8863818359375\n",
      "Epoch: 1, Batch: 80, Avg. Loss: 162.046626953125\n",
      "Epoch: 1, Batch: 90, Avg. Loss: 161.843568359375\n",
      "Epoch: 1, Batch: 100, Avg. Loss: 160.60491796875\n",
      "Epoch: 1, Batch: 110, Avg. Loss: 161.9585927734375\n",
      "Epoch: 1, Batch: 120, Avg. Loss: 162.1567041015625\n",
      "Epoch: 1, Batch: 130, Avg. Loss: 162.0805322265625\n",
      "Epoch: 2, Batch: 10, Avg. Loss: 160.4445439453125\n",
      "Epoch: 2, Batch: 20, Avg. Loss: 161.832552734375\n",
      "Epoch: 2, Batch: 30, Avg. Loss: 160.94972265625\n",
      "Epoch: 2, Batch: 40, Avg. Loss: 161.421365234375\n",
      "Epoch: 2, Batch: 50, Avg. Loss: 161.501970703125\n",
      "Epoch: 2, Batch: 60, Avg. Loss: 162.0057626953125\n",
      "Epoch: 2, Batch: 70, Avg. Loss: 162.303095703125\n",
      "Epoch: 2, Batch: 80, Avg. Loss: 162.0558701171875\n",
      "Epoch: 2, Batch: 90, Avg. Loss: 162.9625498046875\n",
      "Epoch: 2, Batch: 100, Avg. Loss: 162.961705078125\n",
      "Epoch: 2, Batch: 110, Avg. Loss: 161.4826142578125\n",
      "Epoch: 2, Batch: 120, Avg. Loss: 160.7847294921875\n",
      "Epoch: 2, Batch: 130, Avg. Loss: 161.6260537109375\n",
      "Epoch: 3, Batch: 10, Avg. Loss: 162.5321513671875\n",
      "Epoch: 3, Batch: 20, Avg. Loss: 161.783328125\n",
      "Epoch: 3, Batch: 30, Avg. Loss: 161.3527509765625\n",
      "Epoch: 3, Batch: 40, Avg. Loss: 161.4862666015625\n",
      "Epoch: 3, Batch: 50, Avg. Loss: 161.387525390625\n",
      "Epoch: 3, Batch: 60, Avg. Loss: 162.015970703125\n",
      "Epoch: 3, Batch: 70, Avg. Loss: 161.4272216796875\n",
      "Epoch: 3, Batch: 80, Avg. Loss: 161.5176533203125\n",
      "Epoch: 3, Batch: 90, Avg. Loss: 162.3033544921875\n",
      "Epoch: 3, Batch: 100, Avg. Loss: 161.3152802734375\n",
      "Epoch: 3, Batch: 110, Avg. Loss: 161.64708984375\n",
      "Epoch: 3, Batch: 120, Avg. Loss: 161.588216796875\n",
      "Epoch: 3, Batch: 130, Avg. Loss: 160.83804296875\n",
      "Epoch: 4, Batch: 10, Avg. Loss: 161.6462939453125\n",
      "Epoch: 4, Batch: 20, Avg. Loss: 162.223255859375\n",
      "Epoch: 4, Batch: 30, Avg. Loss: 161.93669140625\n",
      "Epoch: 4, Batch: 40, Avg. Loss: 161.41028125\n",
      "Epoch: 4, Batch: 50, Avg. Loss: 161.4793251953125\n",
      "Epoch: 4, Batch: 60, Avg. Loss: 161.2793779296875\n",
      "Epoch: 4, Batch: 70, Avg. Loss: 160.6543193359375\n",
      "Epoch: 4, Batch: 80, Avg. Loss: 162.1325322265625\n",
      "Epoch: 4, Batch: 90, Avg. Loss: 161.05853125\n",
      "Epoch: 4, Batch: 100, Avg. Loss: 160.196587890625\n",
      "Epoch: 4, Batch: 110, Avg. Loss: 161.7770498046875\n",
      "Epoch: 4, Batch: 120, Avg. Loss: 161.2901123046875\n",
      "Epoch: 4, Batch: 130, Avg. Loss: 162.25746875\n",
      "Epoch: 5, Batch: 10, Avg. Loss: 161.305802734375\n",
      "Epoch: 5, Batch: 20, Avg. Loss: 161.8017998046875\n",
      "Epoch: 5, Batch: 30, Avg. Loss: 162.576505859375\n",
      "Epoch: 5, Batch: 40, Avg. Loss: 162.3440927734375\n",
      "Epoch: 5, Batch: 50, Avg. Loss: 161.758900390625\n",
      "Epoch: 5, Batch: 60, Avg. Loss: 161.7300263671875\n",
      "Epoch: 5, Batch: 70, Avg. Loss: 161.64659375\n",
      "Epoch: 5, Batch: 80, Avg. Loss: 162.568892578125\n",
      "Epoch: 5, Batch: 90, Avg. Loss: 160.60080078125\n",
      "Epoch: 5, Batch: 100, Avg. Loss: 161.415859375\n",
      "Epoch: 5, Batch: 110, Avg. Loss: 162.3597841796875\n",
      "Epoch: 5, Batch: 120, Avg. Loss: 161.1689453125\n",
      "Epoch: 5, Batch: 130, Avg. Loss: 162.2611904296875\n",
      "Epoch: 6, Batch: 10, Avg. Loss: 161.0082421875\n",
      "Epoch: 6, Batch: 20, Avg. Loss: 162.466171875\n",
      "Epoch: 6, Batch: 30, Avg. Loss: 161.8631591796875\n",
      "Epoch: 6, Batch: 40, Avg. Loss: 161.35871484375\n",
      "Epoch: 6, Batch: 50, Avg. Loss: 160.8374599609375\n",
      "Epoch: 6, Batch: 60, Avg. Loss: 162.296986328125\n",
      "Epoch: 6, Batch: 70, Avg. Loss: 160.8662001953125\n",
      "Epoch: 6, Batch: 80, Avg. Loss: 162.5255654296875\n",
      "Epoch: 6, Batch: 90, Avg. Loss: 162.085013671875\n",
      "Epoch: 6, Batch: 100, Avg. Loss: 161.2540703125\n",
      "Epoch: 6, Batch: 110, Avg. Loss: 161.4614111328125\n",
      "Epoch: 6, Batch: 120, Avg. Loss: 161.6921455078125\n",
      "Epoch: 6, Batch: 130, Avg. Loss: 161.791724609375\n",
      "Epoch: 7, Batch: 10, Avg. Loss: 162.191390625\n",
      "Epoch: 7, Batch: 20, Avg. Loss: 161.4239853515625\n",
      "Epoch: 7, Batch: 30, Avg. Loss: 161.67332421875\n",
      "Epoch: 7, Batch: 40, Avg. Loss: 161.656525390625\n",
      "Epoch: 7, Batch: 50, Avg. Loss: 162.4565654296875\n",
      "Epoch: 7, Batch: 60, Avg. Loss: 161.18419140625\n",
      "Epoch: 7, Batch: 70, Avg. Loss: 161.0295244140625\n",
      "Epoch: 7, Batch: 80, Avg. Loss: 161.342974609375\n",
      "Epoch: 7, Batch: 90, Avg. Loss: 162.51901171875\n",
      "Epoch: 7, Batch: 100, Avg. Loss: 161.964025390625\n",
      "Epoch: 7, Batch: 110, Avg. Loss: 162.561123046875\n",
      "Epoch: 7, Batch: 120, Avg. Loss: 161.9937470703125\n",
      "Epoch: 7, Batch: 130, Avg. Loss: 161.0039326171875\n",
      "Epoch: 8, Batch: 10, Avg. Loss: 160.6297099609375\n",
      "Epoch: 8, Batch: 20, Avg. Loss: 162.938552734375\n",
      "Epoch: 8, Batch: 30, Avg. Loss: 161.7824501953125\n",
      "Epoch: 8, Batch: 40, Avg. Loss: 163.0154501953125\n",
      "Epoch: 8, Batch: 50, Avg. Loss: 161.2523330078125\n",
      "Epoch: 8, Batch: 60, Avg. Loss: 161.838859375\n",
      "Epoch: 8, Batch: 70, Avg. Loss: 161.7540419921875\n",
      "Epoch: 8, Batch: 80, Avg. Loss: 161.3758193359375\n",
      "Epoch: 8, Batch: 90, Avg. Loss: 162.3259501953125\n",
      "Epoch: 8, Batch: 100, Avg. Loss: 161.213806640625\n",
      "Epoch: 8, Batch: 110, Avg. Loss: 162.6672412109375\n",
      "Epoch: 8, Batch: 120, Avg. Loss: 161.7617431640625\n",
      "Epoch: 8, Batch: 130, Avg. Loss: 161.4523125\n",
      "Epoch: 9, Batch: 10, Avg. Loss: 161.1244111328125\n",
      "Epoch: 9, Batch: 20, Avg. Loss: 161.64416796875\n",
      "Epoch: 9, Batch: 30, Avg. Loss: 161.84778515625\n",
      "Epoch: 9, Batch: 40, Avg. Loss: 161.2397197265625\n",
      "Epoch: 9, Batch: 50, Avg. Loss: 161.0404169921875\n",
      "Epoch: 9, Batch: 60, Avg. Loss: 161.053400390625\n",
      "Epoch: 9, Batch: 70, Avg. Loss: 161.77592578125\n",
      "Epoch: 9, Batch: 80, Avg. Loss: 161.7533671875\n",
      "Epoch: 9, Batch: 90, Avg. Loss: 161.6628271484375\n",
      "Epoch: 9, Batch: 100, Avg. Loss: 162.5072314453125\n",
      "Epoch: 9, Batch: 110, Avg. Loss: 162.4791240234375\n",
      "Epoch: 9, Batch: 120, Avg. Loss: 161.3498994140625\n",
      "Epoch: 9, Batch: 130, Avg. Loss: 161.1434365234375\n",
      "Epoch: 10, Batch: 10, Avg. Loss: 160.7831796875\n",
      "Epoch: 10, Batch: 20, Avg. Loss: 160.865939453125\n",
      "Epoch: 10, Batch: 30, Avg. Loss: 162.4124111328125\n",
      "Epoch: 10, Batch: 40, Avg. Loss: 161.83194921875\n",
      "Epoch: 10, Batch: 50, Avg. Loss: 160.853302734375\n",
      "Epoch: 10, Batch: 60, Avg. Loss: 162.4205966796875\n",
      "Epoch: 10, Batch: 70, Avg. Loss: 161.6238486328125\n",
      "Epoch: 10, Batch: 80, Avg. Loss: 162.404251953125\n",
      "Epoch: 10, Batch: 90, Avg. Loss: 161.311314453125\n",
      "Epoch: 10, Batch: 100, Avg. Loss: 161.5602724609375\n",
      "Epoch: 10, Batch: 110, Avg. Loss: 161.928439453125\n",
      "Epoch: 10, Batch: 120, Avg. Loss: 162.07379296875\n",
      "Epoch: 10, Batch: 130, Avg. Loss: 162.398498046875\n",
      "Epoch: 11, Batch: 10, Avg. Loss: 161.8548466796875\n",
      "Epoch: 11, Batch: 20, Avg. Loss: 160.6900390625\n",
      "Epoch: 11, Batch: 30, Avg. Loss: 160.916373046875\n",
      "Epoch: 11, Batch: 40, Avg. Loss: 161.4948671875\n",
      "Epoch: 11, Batch: 50, Avg. Loss: 161.857837890625\n",
      "Epoch: 11, Batch: 60, Avg. Loss: 160.9795458984375\n",
      "Epoch: 11, Batch: 70, Avg. Loss: 161.86411328125\n",
      "Epoch: 11, Batch: 80, Avg. Loss: 162.0361943359375\n",
      "Epoch: 11, Batch: 90, Avg. Loss: 160.7871494140625\n",
      "Epoch: 11, Batch: 100, Avg. Loss: 162.206556640625\n",
      "Epoch: 11, Batch: 110, Avg. Loss: 162.078001953125\n",
      "Epoch: 11, Batch: 120, Avg. Loss: 162.6152802734375\n",
      "Epoch: 11, Batch: 130, Avg. Loss: 160.820060546875\n",
      "Epoch: 12, Batch: 10, Avg. Loss: 161.5442841796875\n",
      "Epoch: 12, Batch: 20, Avg. Loss: 161.05771875\n",
      "Epoch: 12, Batch: 30, Avg. Loss: 161.5800849609375\n",
      "Epoch: 12, Batch: 40, Avg. Loss: 162.443001953125\n",
      "Epoch: 12, Batch: 50, Avg. Loss: 161.8642412109375\n",
      "Epoch: 12, Batch: 60, Avg. Loss: 162.42764453125\n",
      "Epoch: 12, Batch: 70, Avg. Loss: 160.929080078125\n",
      "Epoch: 12, Batch: 80, Avg. Loss: 161.4913662109375\n",
      "Epoch: 12, Batch: 90, Avg. Loss: 161.203216796875\n",
      "Epoch: 12, Batch: 100, Avg. Loss: 161.97826953125\n",
      "Epoch: 12, Batch: 110, Avg. Loss: 161.6180986328125\n",
      "Epoch: 12, Batch: 120, Avg. Loss: 162.4096806640625\n",
      "Epoch: 12, Batch: 130, Avg. Loss: 160.7797998046875\n",
      "Epoch: 13, Batch: 10, Avg. Loss: 160.7212578125\n",
      "Epoch: 13, Batch: 20, Avg. Loss: 161.270853515625\n",
      "Epoch: 13, Batch: 30, Avg. Loss: 162.526283203125\n",
      "Epoch: 13, Batch: 40, Avg. Loss: 162.05081640625\n",
      "Epoch: 13, Batch: 50, Avg. Loss: 161.6054736328125\n",
      "Epoch: 13, Batch: 60, Avg. Loss: 162.702337890625\n",
      "Epoch: 13, Batch: 70, Avg. Loss: 161.8492294921875\n",
      "Epoch: 13, Batch: 80, Avg. Loss: 160.506736328125\n",
      "Epoch: 13, Batch: 90, Avg. Loss: 161.0024765625\n",
      "Epoch: 13, Batch: 100, Avg. Loss: 161.94275390625\n"
     ]
    },
    {
     "name": "stdout",
     "output_type": "stream",
     "text": [
      "Epoch: 13, Batch: 110, Avg. Loss: 161.7936279296875\n",
      "Epoch: 13, Batch: 120, Avg. Loss: 161.20795703125\n",
      "Epoch: 13, Batch: 130, Avg. Loss: 161.570255859375\n",
      "Epoch: 14, Batch: 10, Avg. Loss: 160.5619609375\n",
      "Epoch: 14, Batch: 20, Avg. Loss: 161.5156337890625\n",
      "Epoch: 14, Batch: 30, Avg. Loss: 160.404779296875\n",
      "Epoch: 14, Batch: 40, Avg. Loss: 161.3651298828125\n",
      "Epoch: 14, Batch: 50, Avg. Loss: 163.0193017578125\n",
      "Epoch: 14, Batch: 60, Avg. Loss: 161.851736328125\n",
      "Epoch: 14, Batch: 70, Avg. Loss: 161.6075341796875\n",
      "Epoch: 14, Batch: 80, Avg. Loss: 161.1868291015625\n",
      "Epoch: 14, Batch: 90, Avg. Loss: 161.21962890625\n",
      "Epoch: 14, Batch: 100, Avg. Loss: 161.9374755859375\n",
      "Epoch: 14, Batch: 110, Avg. Loss: 160.953513671875\n",
      "Epoch: 14, Batch: 120, Avg. Loss: 161.288138671875\n",
      "Epoch: 14, Batch: 130, Avg. Loss: 162.4782373046875\n",
      "Epoch: 15, Batch: 10, Avg. Loss: 162.161515625\n",
      "Epoch: 15, Batch: 20, Avg. Loss: 160.9998330078125\n",
      "Epoch: 15, Batch: 30, Avg. Loss: 162.0052626953125\n",
      "Epoch: 15, Batch: 40, Avg. Loss: 161.168109375\n",
      "Epoch: 15, Batch: 50, Avg. Loss: 161.72176171875\n",
      "Epoch: 15, Batch: 60, Avg. Loss: 161.835982421875\n",
      "Epoch: 15, Batch: 70, Avg. Loss: 161.2053994140625\n",
      "Epoch: 15, Batch: 80, Avg. Loss: 161.334642578125\n",
      "Epoch: 15, Batch: 90, Avg. Loss: 161.22241796875\n",
      "Epoch: 15, Batch: 100, Avg. Loss: 162.325443359375\n",
      "Epoch: 15, Batch: 110, Avg. Loss: 162.1192138671875\n",
      "Epoch: 15, Batch: 120, Avg. Loss: 162.2687265625\n",
      "Epoch: 15, Batch: 130, Avg. Loss: 162.135421875\n",
      "Epoch: 16, Batch: 10, Avg. Loss: 161.60160546875\n",
      "Epoch: 16, Batch: 20, Avg. Loss: 161.0141513671875\n",
      "Epoch: 16, Batch: 30, Avg. Loss: 160.304724609375\n",
      "Epoch: 16, Batch: 40, Avg. Loss: 162.4441064453125\n",
      "Epoch: 16, Batch: 50, Avg. Loss: 160.9642314453125\n",
      "Epoch: 16, Batch: 60, Avg. Loss: 161.8134833984375\n",
      "Epoch: 16, Batch: 70, Avg. Loss: 161.3926826171875\n",
      "Epoch: 16, Batch: 80, Avg. Loss: 162.1426015625\n",
      "Epoch: 16, Batch: 90, Avg. Loss: 162.2076650390625\n",
      "Epoch: 16, Batch: 100, Avg. Loss: 162.0356318359375\n",
      "Epoch: 16, Batch: 110, Avg. Loss: 162.301380859375\n",
      "Epoch: 16, Batch: 120, Avg. Loss: 160.50030078125\n",
      "Epoch: 16, Batch: 130, Avg. Loss: 162.3998994140625\n",
      "Epoch: 17, Batch: 10, Avg. Loss: 161.57221484375\n",
      "Epoch: 17, Batch: 20, Avg. Loss: 162.1498115234375\n",
      "Epoch: 17, Batch: 30, Avg. Loss: 162.1538798828125\n",
      "Epoch: 17, Batch: 40, Avg. Loss: 161.695841796875\n",
      "Epoch: 17, Batch: 50, Avg. Loss: 161.6488037109375\n",
      "Epoch: 17, Batch: 60, Avg. Loss: 161.8405947265625\n",
      "Epoch: 17, Batch: 70, Avg. Loss: 161.2899384765625\n",
      "Epoch: 17, Batch: 80, Avg. Loss: 161.8235546875\n",
      "Epoch: 17, Batch: 90, Avg. Loss: 161.7141162109375\n",
      "Epoch: 17, Batch: 100, Avg. Loss: 162.18614453125\n",
      "Epoch: 17, Batch: 110, Avg. Loss: 161.34662109375\n",
      "Epoch: 17, Batch: 120, Avg. Loss: 162.598865234375\n",
      "Epoch: 17, Batch: 130, Avg. Loss: 162.1132822265625\n",
      "Epoch: 18, Batch: 10, Avg. Loss: 160.7155341796875\n",
      "Epoch: 18, Batch: 20, Avg. Loss: 162.1810673828125\n",
      "Epoch: 18, Batch: 30, Avg. Loss: 162.6985048828125\n",
      "Epoch: 18, Batch: 40, Avg. Loss: 160.83223828125\n",
      "Epoch: 18, Batch: 50, Avg. Loss: 161.517359375\n",
      "Epoch: 18, Batch: 60, Avg. Loss: 161.41408984375\n",
      "Epoch: 18, Batch: 70, Avg. Loss: 161.8739609375\n",
      "Epoch: 18, Batch: 80, Avg. Loss: 162.171328125\n",
      "Epoch: 18, Batch: 90, Avg. Loss: 161.596908203125\n",
      "Epoch: 18, Batch: 100, Avg. Loss: 161.9033310546875\n",
      "Epoch: 18, Batch: 110, Avg. Loss: 161.7942587890625\n",
      "Epoch: 18, Batch: 120, Avg. Loss: 160.6119404296875\n",
      "Epoch: 18, Batch: 130, Avg. Loss: 160.9724580078125\n",
      "Epoch: 19, Batch: 10, Avg. Loss: 161.87382421875\n",
      "Epoch: 19, Batch: 20, Avg. Loss: 161.1302490234375\n",
      "Epoch: 19, Batch: 30, Avg. Loss: 161.2979306640625\n",
      "Epoch: 19, Batch: 40, Avg. Loss: 161.330123046875\n",
      "Epoch: 19, Batch: 50, Avg. Loss: 161.8636279296875\n",
      "Epoch: 19, Batch: 60, Avg. Loss: 161.5072333984375\n",
      "Epoch: 19, Batch: 70, Avg. Loss: 161.76855078125\n",
      "Epoch: 19, Batch: 80, Avg. Loss: 160.7878330078125\n",
      "Epoch: 19, Batch: 90, Avg. Loss: 161.7806875\n",
      "Epoch: 19, Batch: 100, Avg. Loss: 161.6727333984375\n",
      "Epoch: 19, Batch: 110, Avg. Loss: 161.725087890625\n",
      "Epoch: 19, Batch: 120, Avg. Loss: 160.8592158203125\n",
      "Epoch: 19, Batch: 130, Avg. Loss: 161.339783203125\n",
      "Epoch: 20, Batch: 10, Avg. Loss: 161.5930009765625\n",
      "Epoch: 20, Batch: 20, Avg. Loss: 161.758904296875\n",
      "Epoch: 20, Batch: 30, Avg. Loss: 162.109361328125\n",
      "Epoch: 20, Batch: 40, Avg. Loss: 160.6672646484375\n",
      "Epoch: 20, Batch: 50, Avg. Loss: 161.35049609375\n",
      "Epoch: 20, Batch: 60, Avg. Loss: 161.244201171875\n",
      "Epoch: 20, Batch: 70, Avg. Loss: 160.7329140625\n",
      "Epoch: 20, Batch: 80, Avg. Loss: 161.6115517578125\n",
      "Epoch: 20, Batch: 90, Avg. Loss: 162.0957626953125\n",
      "Epoch: 20, Batch: 100, Avg. Loss: 161.167203125\n",
      "Epoch: 20, Batch: 110, Avg. Loss: 162.89497265625\n",
      "Epoch: 20, Batch: 120, Avg. Loss: 161.9281943359375\n",
      "Epoch: 20, Batch: 130, Avg. Loss: 162.147765625\n",
      "Epoch: 21, Batch: 10, Avg. Loss: 161.3542314453125\n",
      "Epoch: 21, Batch: 20, Avg. Loss: 161.725443359375\n",
      "Epoch: 21, Batch: 30, Avg. Loss: 162.09430078125\n",
      "Epoch: 21, Batch: 40, Avg. Loss: 162.13446484375\n",
      "Epoch: 21, Batch: 50, Avg. Loss: 161.00108984375\n",
      "Epoch: 21, Batch: 60, Avg. Loss: 161.8118876953125\n",
      "Epoch: 21, Batch: 70, Avg. Loss: 161.6464951171875\n",
      "Epoch: 21, Batch: 80, Avg. Loss: 161.779326171875\n",
      "Epoch: 21, Batch: 90, Avg. Loss: 160.8471474609375\n",
      "Epoch: 21, Batch: 100, Avg. Loss: 162.6999208984375\n",
      "Epoch: 21, Batch: 110, Avg. Loss: 161.9035224609375\n",
      "Epoch: 21, Batch: 120, Avg. Loss: 161.3342626953125\n",
      "Epoch: 21, Batch: 130, Avg. Loss: 161.571763671875\n",
      "Epoch: 22, Batch: 10, Avg. Loss: 161.6822314453125\n",
      "Epoch: 22, Batch: 20, Avg. Loss: 159.646869140625\n",
      "Epoch: 22, Batch: 30, Avg. Loss: 162.6768876953125\n",
      "Epoch: 22, Batch: 40, Avg. Loss: 161.3188134765625\n",
      "Epoch: 22, Batch: 50, Avg. Loss: 162.39434765625\n",
      "Epoch: 22, Batch: 60, Avg. Loss: 162.1606826171875\n",
      "Epoch: 22, Batch: 70, Avg. Loss: 161.309328125\n",
      "Epoch: 22, Batch: 80, Avg. Loss: 161.6926015625\n",
      "Epoch: 22, Batch: 90, Avg. Loss: 161.665837890625\n",
      "Epoch: 22, Batch: 100, Avg. Loss: 162.4241552734375\n",
      "Epoch: 22, Batch: 110, Avg. Loss: 161.808478515625\n",
      "Epoch: 22, Batch: 120, Avg. Loss: 161.6710322265625\n",
      "Epoch: 22, Batch: 130, Avg. Loss: 161.4713466796875\n",
      "Epoch: 23, Batch: 10, Avg. Loss: 161.1651962890625\n",
      "Epoch: 23, Batch: 20, Avg. Loss: 161.6684541015625\n",
      "Epoch: 23, Batch: 30, Avg. Loss: 159.8716240234375\n",
      "Epoch: 23, Batch: 40, Avg. Loss: 161.7871201171875\n",
      "Epoch: 23, Batch: 50, Avg. Loss: 162.0433740234375\n",
      "Epoch: 23, Batch: 60, Avg. Loss: 161.6759228515625\n",
      "Epoch: 23, Batch: 70, Avg. Loss: 161.4329130859375\n",
      "Epoch: 23, Batch: 80, Avg. Loss: 161.3843701171875\n",
      "Epoch: 23, Batch: 90, Avg. Loss: 161.692623046875\n",
      "Epoch: 23, Batch: 100, Avg. Loss: 161.74714453125\n",
      "Epoch: 23, Batch: 110, Avg. Loss: 162.3794287109375\n",
      "Epoch: 23, Batch: 120, Avg. Loss: 162.37326171875\n",
      "Epoch: 23, Batch: 130, Avg. Loss: 161.3951455078125\n",
      "Epoch: 24, Batch: 10, Avg. Loss: 162.1532001953125\n",
      "Epoch: 24, Batch: 20, Avg. Loss: 161.653419921875\n",
      "Epoch: 24, Batch: 30, Avg. Loss: 163.0003623046875\n",
      "Epoch: 24, Batch: 40, Avg. Loss: 162.0264853515625\n",
      "Epoch: 24, Batch: 50, Avg. Loss: 161.7066376953125\n",
      "Epoch: 24, Batch: 60, Avg. Loss: 162.37559375\n",
      "Epoch: 24, Batch: 70, Avg. Loss: 161.049935546875\n",
      "Epoch: 24, Batch: 80, Avg. Loss: 162.213431640625\n",
      "Epoch: 24, Batch: 90, Avg. Loss: 162.6249814453125\n",
      "Epoch: 24, Batch: 100, Avg. Loss: 161.50022265625\n",
      "Epoch: 24, Batch: 110, Avg. Loss: 162.78612890625\n",
      "Epoch: 24, Batch: 120, Avg. Loss: 162.1868701171875\n",
      "Epoch: 24, Batch: 130, Avg. Loss: 161.64484375\n",
      "Epoch: 25, Batch: 10, Avg. Loss: 161.400283203125\n",
      "Epoch: 25, Batch: 20, Avg. Loss: 162.19554296875\n",
      "Epoch: 25, Batch: 30, Avg. Loss: 161.15078125\n",
      "Epoch: 25, Batch: 40, Avg. Loss: 160.82225\n",
      "Epoch: 25, Batch: 50, Avg. Loss: 161.432248046875\n",
      "Epoch: 25, Batch: 60, Avg. Loss: 161.71869921875\n",
      "Epoch: 25, Batch: 70, Avg. Loss: 162.4560771484375\n",
      "Epoch: 25, Batch: 80, Avg. Loss: 161.697345703125\n",
      "Epoch: 25, Batch: 90, Avg. Loss: 162.360939453125\n",
      "Epoch: 25, Batch: 100, Avg. Loss: 161.8717158203125\n",
      "Epoch: 25, Batch: 110, Avg. Loss: 161.5248525390625\n",
      "Epoch: 25, Batch: 120, Avg. Loss: 161.3462861328125\n",
      "Epoch: 25, Batch: 130, Avg. Loss: 161.640697265625\n",
      "Finished Training\n"
     ]
    }
   ],
   "source": [
    "# train your network\n",
    "n_epochs = 25 # start small, and increase when you've decided on your model structure and hyperparams\n",
    "\n",
    "train_net(n_epochs)"
   ]
  },
  {
   "cell_type": "markdown",
   "metadata": {},
   "source": [
    "## Test data\n",
    "\n",
    "See how your model performs on previously unseen, test data. We've already loaded and transformed this data, similar to the training data. Next, run your trained model on these images to see what kind of keypoints are produced. You should be able to see if your model is fitting each new face it sees, if the points are distributed randomly, or if the points have actually overfitted the training data and do not generalize."
   ]
  },
  {
   "cell_type": "code",
   "execution_count": 16,
   "metadata": {},
   "outputs": [
    {
     "name": "stdout",
     "output_type": "stream",
     "text": [
      "torch.Size([10, 1, 224, 224])\n",
      "torch.Size([10, 68, 2])\n",
      "torch.Size([10, 68, 2])\n"
     ]
    }
   ],
   "source": [
    "# get a sample of test data again\n",
    "test_images, test_outputs, gt_pts = net_sample_output()\n",
    "\n",
    "print(test_images.data.size())\n",
    "print(test_outputs.data.size())\n",
    "print(gt_pts.size())"
   ]
  },
  {
   "cell_type": "code",
   "execution_count": 17,
   "metadata": {},
   "outputs": [
    {
     "data": {
      "image/png": "[encoded data removed]",
      "text/plain": [
       "<matplotlib.figure.Figure at 0x10dd56dd8>"
      ]
     },
     "metadata": {},
     "output_type": "display_data"
    },
    {
     "data": {
      "image/png": "[encoded data removed]",
      "text/plain": [
       "<matplotlib.figure.Figure at 0x128748a20>"
      ]
     },
     "metadata": {},
     "output_type": "display_data"
    },
    {
     "data": {
      "image/png": "[encoded data removed]",
      "text/plain": [
       "<matplotlib.figure.Figure at 0x1295c6b00>"
      ]
     },
     "metadata": {},
     "output_type": "display_data"
    },
    {
     "data": {
      "image/png": "[encoded data removed]",
      "text/plain": [
       "<matplotlib.figure.Figure at 0x10eaf3be0>"
      ]
     },
     "metadata": {},
     "output_type": "display_data"
    },
    {
     "data": {
      "image/png": "[encoded data removed]",
      "text/plain": [
       "<matplotlib.figure.Figure at 0x128050978>"
      ]
     },
     "metadata": {},
     "output_type": "display_data"
    },
    {
     "data": {
      "image/png": "[encoded data removed]",
      "text/plain": [
       "<matplotlib.figure.Figure at 0x12a5eb710>"
      ]
     },
     "metadata": {},
     "output_type": "display_data"
    },
    {
     "data": {
      "image/png": "[encoded data removed]",
      "text/plain": [
       "<matplotlib.figure.Figure at 0x12a7677f0>"
      ]
     },
     "metadata": {},
     "output_type": "display_data"
    },
    {
     "data": {
      "image/png": "[encoded data removed]",
      "text/plain": [
       "<matplotlib.figure.Figure at 0x12a7cd8d0>"
      ]
     },
     "metadata": {},
     "output_type": "display_data"
    },
    {
     "data": {
      "image/png": "[encoded data removed]",
      "text/plain": [
       "<matplotlib.figure.Figure at 0x12a583470>"
      ]
     },
     "metadata": {},
     "output_type": "display_data"
    },
    {
     "data": {
      "image/png": "[encoded data removed]",
      "text/plain": [
       "<matplotlib.figure.Figure at 0x12a651550>"
      ]
     },
     "metadata": {},
     "output_type": "display_data"
    }
   ],
   "source": [
    "## TODO: visualize your test output\n",
    "# you can use the same function as before, by un-commenting the line below:\n",
    "\n",
    "visualize_output(test_images, test_outputs, gt_pts)\n"
   ]
  },
  {
   "cell_type": "markdown",
   "metadata": {},
   "source": [
    "Once you've found a good model (or two), save your model so you can load it and use it later!"
   ]
  },
  {
   "cell_type": "code",
   "execution_count": 18,
   "metadata": {
    "collapsed": true
   },
   "outputs": [],
   "source": [
    "## TODO: change the name to something uniqe for each new model\n",
    "model_dir = 'saved_models/'\n",
    "model_name = 'keypoints_model_1.pt'\n",
    "\n",
    "# after training, save your model parameters in the dir 'saved_models'\n",
    "torch.save(net.state_dict(), model_dir+model_name)"
   ]
  },
  {
   "cell_type": "markdown",
   "metadata": {},
   "source": [
    "After you've trained a well-performing model, answer the following questions so that we have some insight into your training and architecture selection process. Answering all questions is required to pass this project."
   ]
  },
  {
   "cell_type": "markdown",
   "metadata": {},
   "source": [
    "### Question 1: What optimization and loss functions did you choose and why?\n"
   ]
  },
  {
   "cell_type": "markdown",
   "metadata": {},
   "source": [
    "**Answer**: I use MSE loss, for a regression problem it can directly compares a predicted value and target value.For optimization I use SGD with momentum cause it has good performance for this project."
   ]
  },
  {
   "cell_type": "markdown",
   "metadata": {},
   "source": [
    "### Question 2: What kind of network architecture did you start with and how did it change as you tried different architectures? Did you decide to add more convolutional layers or any layers to avoid overfitting the data?"
   ]
  },
  {
   "cell_type": "markdown",
   "metadata": {},
   "source": [
    "**Answer**: write your answer here"
   ]
  },
  {
   "cell_type": "markdown",
   "metadata": {},
   "source": [
    "### Question 3: How did you decide on the number of epochs and batch_size to train your model?"
   ]
  },
  {
   "cell_type": "markdown",
   "metadata": {},
   "source": [
    "**Answer**: Firstly I use just one or two epochs to see if it works at the begining, then I will increase the number of epochs to make sure the model is trained appropriately.The number of batch_size depends on my computer memory."
   ]
  },
  {
   "cell_type": "markdown",
   "metadata": {},
   "source": [
    "## Feature Visualization\n",
    "\n",
    "Sometimes, neural networks are thought of as a black box, given some input, they learn to produce some output. CNN's are actually learning to recognize a variety of spatial patterns and you can visualize what each convolutional layer has been trained to recognize by looking at the weights that make up each convolutional kernel and applying those one at a time to a sample image. This technique is called feature visualization and it's useful for understanding the inner workings of a CNN."
   ]
  },
  {
   "cell_type": "markdown",
   "metadata": {},
   "source": [
    "In the cell below, you can see how to extract a single filter (by index) from your first convolutional layer. The filter should appear as a grayscale grid."
   ]
  },
  {
   "cell_type": "code",
   "execution_count": 19,
   "metadata": {},
   "outputs": [
    {
     "name": "stdout",
     "output_type": "stream",
     "text": [
      "[[-0.16353893 -0.18915239 -0.13989963 -0.14223985 -0.02438793]\n",
      " [ 0.00824399 -0.02350008  0.00366756  0.14401637  0.0745265 ]\n",
      " [-0.16723418  0.01759938 -0.1352793  -0.04925051  0.15988036]\n",
      " [-0.16861917 -0.02769007 -0.17752317 -0.1895089   0.0562731 ]\n",
      " [ 0.18838958  0.13308898 -0.0268392   0.0761402  -0.04704306]]\n",
      "(5, 5)\n"
     ]
    },
    {
     "data": {
      "text/plain": [
       "<matplotlib.image.AxesImage at 0x13e84d080>"
      ]
     },
     "execution_count": 19,
     "metadata": {},
     "output_type": "execute_result"
    },
    {
     "data": {
      "image/png": "[encoded data removed]",
      "text/plain": [
       "<matplotlib.figure.Figure at 0x10dd6dba8>"
      ]
     },
     "metadata": {},
     "output_type": "display_data"
    }
   ],
   "source": [
    "# Get the weights in the first conv layer, \"conv1\"\n",
    "# if necessary, change this to reflect the name of your first conv layer\n",
    "weights1 = net.conv1.weight.data\n",
    "\n",
    "w = weights1.numpy()\n",
    "\n",
    "filter_index = 0\n",
    "\n",
    "print(w[filter_index][0])\n",
    "print(w[filter_index][0].shape)\n",
    "\n",
    "# display the filter weights\n",
    "plt.imshow(w[filter_index][0], cmap='gray')\n"
   ]
  },
  {
   "cell_type": "markdown",
   "metadata": {},
   "source": [
    "## Feature maps\n",
    "\n",
    "Each CNN has at least one convolutional layer that is composed of stacked filters (also known as convolutional kernels). As a CNN trains, it learns what weights to include in it's convolutional kernels and when these kernels are applied to some input image, they produce a set of **feature maps**. So, feature maps are just sets of filtered images; they are the images produced by applying a convolutional kernel to an input image. These maps show us the features that the different layers of the neural network learn to extract. For example, you might imagine a convolutional kernel that detects the vertical edges of a face or another one that detects the corners of eyes. You can see what kind of features each of these kernels detects by applying them to an image. One such example is shown below; from the way it brings out the lines in an the image, you might characterize this as an edge detection filter.\n",
    "\n",
    "<img src='images/feature_map_ex.png' width=50% height=50%/>\n",
    "\n",
    "\n",
    "Next, choose a test image and filter it with one of the convolutional kernels in your trained CNN; look at the filtered output to get an idea what that particular kernel detects.\n",
    "\n",
    "### TODO: Filter an image to see the effect of a convolutional kernel\n",
    "---"
   ]
  },
  {
   "cell_type": "code",
   "execution_count": null,
   "metadata": {
    "collapsed": true
   },
   "outputs": [],
   "source": [
    "##TODO: load in and display any image from the transformed test dataset\n",
    "\n",
    "## TODO: Using cv's filter2D function,\n",
    "## apply a specific set of filter weights (like the one displayed above) to the test image\n"
   ]
  },
  {
   "cell_type": "markdown",
   "metadata": {},
   "source": [
    "### Question 4: Choose one filter from your trained CNN and apply it to a test image; what purpose do you think it plays? What kind of feature do you think it detects?\n"
   ]
  },
  {
   "cell_type": "markdown",
   "metadata": {},
   "source": [
    "**Answer**: (does it detect vertical lines or does it blur out noise, etc.) write your answer here"
   ]
  },
  {
   "cell_type": "markdown",
   "metadata": {},
   "source": [
    "---\n",
    "## Moving on!\n",
    "\n",
    "Now that you've defined and trained your model (and saved the best model), you are ready to move on to the last notebook, which combines a face detector with your saved model to create a facial keypoint detection system that can predict the keypoints on *any* face in an image!"
   ]
  }
 ],
 "metadata": {
  "kernelspec": {
   "display_name": "cv-nd",
   "language": "python",
   "name": "cv-nd"
  },
  "language_info": {
   "codemirror_mode": {
    "name": "ipython",
    "version": 3
   },
   "file_extension": ".py",
   "mimetype": "text/x-python",
   "name": "python",
   "nbconvert_exporter": "python",
   "pygments_lexer": "ipython3",
   "version": "3.6.5"
  }
 },
 "nbformat": 4,
 "nbformat_minor": 2
}
